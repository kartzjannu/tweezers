{
 "cells": [
  {
   "cell_type": "markdown",
   "metadata": {},
   "source": [
    "# tweezers\n",
    "### Python library for twitter data analysis.\n",
    "Tweezers leverages the power of *requests* and *pandas* to provide a simple interface to scrape Twitter data and shape-it-into easy to analyse lists, dataframes, and metadata."
   ]
  },
  {
   "cell_type": "code",
   "execution_count": 1,
   "metadata": {
    "collapsed": true
   },
   "outputs": [],
   "source": [
    "import tweezers"
   ]
  },
  {
   "cell_type": "markdown",
   "metadata": {},
   "source": [
    "#### First create a connection to the API with twitter credentials"
   ]
  },
  {
   "cell_type": "code",
   "execution_count": 2,
   "metadata": {
    "collapsed": true
   },
   "outputs": [],
   "source": [
    "# Twitter auth credentials loaded from a locally stored json file.\n",
    "import json\n",
    "credentials = json.load(open(\"../../../credentials/twitter_credentials.json\"))\n",
    "\n",
    "consumer_key = credentials['consumer_key']\n",
    "consumer_secret = credentials['consumer_secret']\n",
    "access_token = credentials['access_token']\n",
    "access_token_secret = credentials['access_token_secret']\n",
    "\n",
    "auth = tweezers.tweezer_auth(consumer_key, \n",
    "                             consumer_secret,\n",
    "                             access_token,\n",
    "                             access_token_secret)"
   ]
  },
  {
   "cell_type": "markdown",
   "metadata": {},
   "source": [
    "Verify the credentials have successfully connected with Twitter"
   ]
  },
  {
   "cell_type": "code",
   "execution_count": 3,
   "metadata": {},
   "outputs": [
    {
     "data": {
      "text/plain": [
       "'Congratulations! Your credentials are valid.'"
      ]
     },
     "execution_count": 3,
     "metadata": {},
     "output_type": "execute_result"
    }
   ],
   "source": [
    "auth.verify()"
   ]
  },
  {
   "cell_type": "markdown",
   "metadata": {},
   "source": [
    "#### Now perform a search. Simply specify the number of tweets!"
   ]
  },
  {
   "cell_type": "code",
   "execution_count": 4,
   "metadata": {},
   "outputs": [
    {
     "name": "stdout",
     "output_type": "stream",
     "text": [
      "1000 tweets requested, 1000 tweets returned\n"
     ]
    }
   ],
   "source": [
    "my_search = tweezers.search(tweezer_auth = auth,\n",
    "                            total = 1000,\n",
    "                            search_term = \"bitcoin\")"
   ]
  },
  {
   "cell_type": "markdown",
   "metadata": {},
   "source": [
    "The search object create provides access to a number of methods for retrieving lists, dataframes and search metadata.\n",
    "\n",
    "<img src=\"./images/search.methods.png\" align=\"left\">"
   ]
  },
  {
   "cell_type": "markdown",
   "metadata": {},
   "source": [
    "Get a list of the tweet features returned by the search:"
   ]
  },
  {
   "cell_type": "code",
   "execution_count": 5,
   "metadata": {},
   "outputs": [
    {
     "data": {
      "text/plain": [
       "['created_at',\n",
       " 'id',\n",
       " 'id_str',\n",
       " 'text',\n",
       " 'truncated',\n",
       " 'entities',\n",
       " 'metadata',\n",
       " 'source',\n",
       " 'in_reply_to_status_id',\n",
       " 'in_reply_to_status_id_str',\n",
       " 'in_reply_to_user_id',\n",
       " 'in_reply_to_user_id_str',\n",
       " 'in_reply_to_screen_name',\n",
       " 'user',\n",
       " 'geo',\n",
       " 'coordinates',\n",
       " 'place',\n",
       " 'contributors',\n",
       " 'is_quote_status',\n",
       " 'retweet_count',\n",
       " 'favorite_count',\n",
       " 'favorited',\n",
       " 'retweeted',\n",
       " 'possibly_sensitive',\n",
       " 'lang']"
      ]
     },
     "execution_count": 5,
     "metadata": {},
     "output_type": "execute_result"
    }
   ],
   "source": [
    "my_search.tweet_features"
   ]
  },
  {
   "cell_type": "markdown",
   "metadata": {},
   "source": [
    "Choose a feature and get a list of that feature for every tweet returned:"
   ]
  },
  {
   "cell_type": "code",
   "execution_count": 6,
   "metadata": {},
   "outputs": [
    {
     "data": {
      "text/plain": [
       "['Wed Aug 16 14:10:12 +0000 2017',\n",
       " 'Wed Aug 16 14:10:11 +0000 2017',\n",
       " 'Wed Aug 16 14:10:11 +0000 2017',\n",
       " 'Wed Aug 16 14:10:07 +0000 2017',\n",
       " 'Wed Aug 16 14:10:07 +0000 2017',\n",
       " 'Wed Aug 16 14:10:07 +0000 2017',\n",
       " 'Wed Aug 16 14:10:07 +0000 2017',\n",
       " 'Wed Aug 16 14:10:07 +0000 2017',\n",
       " 'Wed Aug 16 14:10:07 +0000 2017',\n",
       " 'Wed Aug 16 14:10:04 +0000 2017']"
      ]
     },
     "execution_count": 6,
     "metadata": {},
     "output_type": "execute_result"
    }
   ],
   "source": [
    "my_search.list_tweet_feature(feature = \"created_at\")[:10]"
   ]
  },
  {
   "cell_type": "markdown",
   "metadata": {},
   "source": [
    "Get a dataframe summary of the number of users, mentions, hashtags, or URLs in the tweets returned by the search."
   ]
  },
  {
   "cell_type": "code",
   "execution_count": 8,
   "metadata": {},
   "outputs": [
    {
     "data": {
      "text/html": [
       "<div>\n",
       "<style>\n",
       "    .dataframe thead tr:only-child th {\n",
       "        text-align: right;\n",
       "    }\n",
       "\n",
       "    .dataframe thead th {\n",
       "        text-align: left;\n",
       "    }\n",
       "\n",
       "    .dataframe tbody tr th {\n",
       "        vertical-align: top;\n",
       "    }\n",
       "</style>\n",
       "<table border=\"1\" class=\"dataframe\">\n",
       "  <thead>\n",
       "    <tr style=\"text-align: right;\">\n",
       "      <th></th>\n",
       "      <th>users</th>\n",
       "      <th>count</th>\n",
       "    </tr>\n",
       "  </thead>\n",
       "  <tbody>\n",
       "    <tr>\n",
       "      <th>0</th>\n",
       "      <td>rr_bitcoin</td>\n",
       "      <td>30</td>\n",
       "    </tr>\n",
       "    <tr>\n",
       "      <th>1</th>\n",
       "      <td>StakepoolCom</td>\n",
       "      <td>13</td>\n",
       "    </tr>\n",
       "    <tr>\n",
       "      <th>2</th>\n",
       "      <td>btcbreakingnews</td>\n",
       "      <td>10</td>\n",
       "    </tr>\n",
       "    <tr>\n",
       "      <th>3</th>\n",
       "      <td>AliceAndHerCat</td>\n",
       "      <td>8</td>\n",
       "    </tr>\n",
       "    <tr>\n",
       "      <th>4</th>\n",
       "      <td>Mrs_Sadler_</td>\n",
       "      <td>8</td>\n",
       "    </tr>\n",
       "  </tbody>\n",
       "</table>\n",
       "</div>"
      ],
      "text/plain": [
       "             users  count\n",
       "0       rr_bitcoin     30\n",
       "1     StakepoolCom     13\n",
       "2  btcbreakingnews     10\n",
       "3   AliceAndHerCat      8\n",
       "4      Mrs_Sadler_      8"
      ]
     },
     "execution_count": 8,
     "metadata": {},
     "output_type": "execute_result"
    }
   ],
   "source": [
    "my_search.users_df().head()"
   ]
  },
  {
   "cell_type": "code",
   "execution_count": 9,
   "metadata": {},
   "outputs": [
    {
     "data": {
      "text/html": [
       "<div>\n",
       "<style>\n",
       "    .dataframe thead tr:only-child th {\n",
       "        text-align: right;\n",
       "    }\n",
       "\n",
       "    .dataframe thead th {\n",
       "        text-align: left;\n",
       "    }\n",
       "\n",
       "    .dataframe tbody tr th {\n",
       "        vertical-align: top;\n",
       "    }\n",
       "</style>\n",
       "<table border=\"1\" class=\"dataframe\">\n",
       "  <thead>\n",
       "    <tr style=\"text-align: right;\">\n",
       "      <th></th>\n",
       "      <th>mentions</th>\n",
       "      <th>count</th>\n",
       "    </tr>\n",
       "  </thead>\n",
       "  <tbody>\n",
       "    <tr>\n",
       "      <th>0</th>\n",
       "      <td>@YouTube</td>\n",
       "      <td>10</td>\n",
       "    </tr>\n",
       "    <tr>\n",
       "      <th>1</th>\n",
       "      <td>@CoinDesk</td>\n",
       "      <td>8</td>\n",
       "    </tr>\n",
       "    <tr>\n",
       "      <th>2</th>\n",
       "      <td>@Chain</td>\n",
       "      <td>7</td>\n",
       "    </tr>\n",
       "    <tr>\n",
       "      <th>3</th>\n",
       "      <td>@pierre</td>\n",
       "      <td>6</td>\n",
       "    </tr>\n",
       "    <tr>\n",
       "      <th>4</th>\n",
       "      <td>@Cointelegraph</td>\n",
       "      <td>5</td>\n",
       "    </tr>\n",
       "  </tbody>\n",
       "</table>\n",
       "</div>"
      ],
      "text/plain": [
       "         mentions  count\n",
       "0        @YouTube     10\n",
       "1       @CoinDesk      8\n",
       "2          @Chain      7\n",
       "3         @pierre      6\n",
       "4  @Cointelegraph      5"
      ]
     },
     "execution_count": 9,
     "metadata": {},
     "output_type": "execute_result"
    }
   ],
   "source": [
    "my_search.mentioned_df().head()"
   ]
  },
  {
   "cell_type": "code",
   "execution_count": 10,
   "metadata": {},
   "outputs": [
    {
     "data": {
      "text/html": [
       "<div>\n",
       "<style>\n",
       "    .dataframe thead tr:only-child th {\n",
       "        text-align: right;\n",
       "    }\n",
       "\n",
       "    .dataframe thead th {\n",
       "        text-align: left;\n",
       "    }\n",
       "\n",
       "    .dataframe tbody tr th {\n",
       "        vertical-align: top;\n",
       "    }\n",
       "</style>\n",
       "<table border=\"1\" class=\"dataframe\">\n",
       "  <thead>\n",
       "    <tr style=\"text-align: right;\">\n",
       "      <th></th>\n",
       "      <th>hashtags</th>\n",
       "      <th>count</th>\n",
       "    </tr>\n",
       "  </thead>\n",
       "  <tbody>\n",
       "    <tr>\n",
       "      <th>0</th>\n",
       "      <td>bitcoin</td>\n",
       "      <td>151</td>\n",
       "    </tr>\n",
       "    <tr>\n",
       "      <th>1</th>\n",
       "      <td>Bitcoin</td>\n",
       "      <td>82</td>\n",
       "    </tr>\n",
       "    <tr>\n",
       "      <th>2</th>\n",
       "      <td>blockchain</td>\n",
       "      <td>19</td>\n",
       "    </tr>\n",
       "    <tr>\n",
       "      <th>3</th>\n",
       "      <td>cryptocurrency</td>\n",
       "      <td>13</td>\n",
       "    </tr>\n",
       "    <tr>\n",
       "      <th>4</th>\n",
       "      <td>news</td>\n",
       "      <td>11</td>\n",
       "    </tr>\n",
       "  </tbody>\n",
       "</table>\n",
       "</div>"
      ],
      "text/plain": [
       "         hashtags  count\n",
       "0         bitcoin    151\n",
       "1         Bitcoin     82\n",
       "2      blockchain     19\n",
       "3  cryptocurrency     13\n",
       "4            news     11"
      ]
     },
     "execution_count": 10,
     "metadata": {},
     "output_type": "execute_result"
    }
   ],
   "source": [
    "my_search.hashtags_df().head()"
   ]
  },
  {
   "cell_type": "code",
   "execution_count": 11,
   "metadata": {},
   "outputs": [
    {
     "data": {
      "text/html": [
       "<div>\n",
       "<style>\n",
       "    .dataframe thead tr:only-child th {\n",
       "        text-align: right;\n",
       "    }\n",
       "\n",
       "    .dataframe thead th {\n",
       "        text-align: left;\n",
       "    }\n",
       "\n",
       "    .dataframe tbody tr th {\n",
       "        vertical-align: top;\n",
       "    }\n",
       "</style>\n",
       "<table border=\"1\" class=\"dataframe\">\n",
       "  <thead>\n",
       "    <tr style=\"text-align: right;\">\n",
       "      <th></th>\n",
       "      <th>url</th>\n",
       "      <th>count</th>\n",
       "    </tr>\n",
       "  </thead>\n",
       "  <tbody>\n",
       "    <tr>\n",
       "      <th>0</th>\n",
       "      <td>https://t.co/q2DCN5fzra</td>\n",
       "      <td>6</td>\n",
       "    </tr>\n",
       "    <tr>\n",
       "      <th>1</th>\n",
       "      <td>https://t.co/0jRc0P4LS7</td>\n",
       "      <td>3</td>\n",
       "    </tr>\n",
       "    <tr>\n",
       "      <th>2</th>\n",
       "      <td>https://t.co/UlHpwsafD8</td>\n",
       "      <td>3</td>\n",
       "    </tr>\n",
       "    <tr>\n",
       "      <th>3</th>\n",
       "      <td>https://t.co/GxjCOsIHHp</td>\n",
       "      <td>3</td>\n",
       "    </tr>\n",
       "    <tr>\n",
       "      <th>4</th>\n",
       "      <td>https://t.co/1HTm4ls1Tc</td>\n",
       "      <td>3</td>\n",
       "    </tr>\n",
       "  </tbody>\n",
       "</table>\n",
       "</div>"
      ],
      "text/plain": [
       "                       url  count\n",
       "0  https://t.co/q2DCN5fzra      6\n",
       "1  https://t.co/0jRc0P4LS7      3\n",
       "2  https://t.co/UlHpwsafD8      3\n",
       "3  https://t.co/GxjCOsIHHp      3\n",
       "4  https://t.co/1HTm4ls1Tc      3"
      ]
     },
     "execution_count": 11,
     "metadata": {},
     "output_type": "execute_result"
    }
   ],
   "source": [
    "my_search.urls_df().head()"
   ]
  },
  {
   "cell_type": "markdown",
   "metadata": {},
   "source": [
    "Get an estimate of the average tweet frequency for the search term:"
   ]
  },
  {
   "cell_type": "code",
   "execution_count": 12,
   "metadata": {},
   "outputs": [
    {
     "data": {
      "text/plain": [
       "datetime.timedelta(0, 2, 598000)"
      ]
     },
     "execution_count": 12,
     "metadata": {},
     "output_type": "execute_result"
    }
   ],
   "source": [
    "my_search.time_per_tweet"
   ]
  },
  {
   "cell_type": "markdown",
   "metadata": {},
   "source": [
    "Get an estimate of the number of tweets per week about the search term:"
   ]
  },
  {
   "cell_type": "code",
   "execution_count": 13,
   "metadata": {},
   "outputs": [
    {
     "data": {
      "text/plain": [
       "302400"
      ]
     },
     "execution_count": 13,
     "metadata": {},
     "output_type": "execute_result"
    }
   ],
   "source": [
    "my_search.tweets_per_week"
   ]
  },
  {
   "cell_type": "markdown",
   "metadata": {},
   "source": [
    "Get a list of the text of all the tweets:"
   ]
  },
  {
   "cell_type": "code",
   "execution_count": 14,
   "metadata": {},
   "outputs": [
    {
     "data": {
      "text/plain": [
       "[\"Why Bitcoin, Cryptos Aren't Gold https://t.co/ya3BJtyBXL\",\n",
       " 'Bitcoin for Dummies by Prypto (English) Paperback\\xa0Book https://t.co/LQJOJWuZ5f',\n",
       " 'The Age of Cryptocurrency: How Bitcoin and the Blockchain Are Challenging… https://t.co/oGKQ5YKZ2c',\n",
       " 'Coral Gables (Miami, FL) Homeowner Will Accept Bitcoin for His $6.4 Million Mansion https://t.co/rRC1vNASzI',\n",
       " 'Companies are buying bitcoin to pay off hackers, says top cybersecurity CEO https://t.co/GHQZjS2oQi https://t.co/wwTY1ISCy8',\n",
       " 'Altcoins Could Lose 20% When #Bitcoin Climbs to $5,000 #cryptocurrency #fintech https://t.co/c86iD5G3Lr https://t.co/iguWkXpdLZ',\n",
       " 'Would anyone recommend the https://t.co/onEuE7IA7G BCC wallet for Bitcoin Cash? https://t.co/ycQ4tpAikw',\n",
       " 'The Intrinsic Value of Bitcoin, Bubble Speculation Historically Wrong https://t.co/w2c18WNEiM',\n",
       " 'The Age of Cryptocurrency: How Bitcoin and the Blockchain Are Challenging… https://t.co/JoPuhEKcHY',\n",
       " 'I like how this discussion raises awareness for Bitcoin proof-of-work game theory, which further exemplifies where… https://t.co/d3eUwgotvs']"
      ]
     },
     "execution_count": 14,
     "metadata": {},
     "output_type": "execute_result"
    }
   ],
   "source": [
    "my_search.tweets[:10]"
   ]
  },
  {
   "cell_type": "markdown",
   "metadata": {},
   "source": [
    "Doing some Natural Language Processing? Get the same list, but with URLs, hashtag symbols, and @ symbols removed:"
   ]
  },
  {
   "cell_type": "code",
   "execution_count": 15,
   "metadata": {},
   "outputs": [
    {
     "data": {
      "text/plain": [
       "[\"Why Bitcoin, Cryptos Aren't Gold\",\n",
       " 'Bitcoin for Dummies by Prypto (English) Paperback Book',\n",
       " 'The Age of Cryptocurrency: How Bitcoin and the Blockchain Are Challenging…',\n",
       " 'Coral Gables (Miami, FL) Homeowner Will Accept Bitcoin for His $6.4 Million Mansion',\n",
       " 'Companies are buying bitcoin to pay off hackers, says top cybersecurity CEO',\n",
       " 'Altcoins Could Lose 20% When Bitcoin Climbs to $5,000 cryptocurrency fintech',\n",
       " 'Would anyone recommend the BCC wallet for Bitcoin Cash?',\n",
       " 'The Intrinsic Value of Bitcoin, Bubble Speculation Historically Wrong',\n",
       " 'The Age of Cryptocurrency: How Bitcoin and the Blockchain Are Challenging…',\n",
       " 'I like how this discussion raises awareness for Bitcoin proof-of-work game theory, which further exemplifies where…']"
      ]
     },
     "execution_count": 15,
     "metadata": {},
     "output_type": "execute_result"
    }
   ],
   "source": [
    "my_search.stripped_tweets[:10]"
   ]
  },
  {
   "cell_type": "markdown",
   "metadata": {},
   "source": [
    "#### And for a perfectly formatted pandas dataframe ready for analysis, just run:"
   ]
  },
  {
   "cell_type": "code",
   "execution_count": 17,
   "metadata": {},
   "outputs": [
    {
     "data": {
      "text/html": [
       "<div>\n",
       "<style>\n",
       "    .dataframe thead tr:only-child th {\n",
       "        text-align: right;\n",
       "    }\n",
       "\n",
       "    .dataframe thead th {\n",
       "        text-align: left;\n",
       "    }\n",
       "\n",
       "    .dataframe tbody tr th {\n",
       "        vertical-align: top;\n",
       "    }\n",
       "</style>\n",
       "<table border=\"1\" class=\"dataframe\">\n",
       "  <thead>\n",
       "    <tr style=\"text-align: right;\">\n",
       "      <th></th>\n",
       "      <th>ats</th>\n",
       "      <th>created_at</th>\n",
       "      <th>favorite_count</th>\n",
       "      <th>hashtags</th>\n",
       "      <th>id</th>\n",
       "      <th>retweet_count</th>\n",
       "      <th>stripped_tweet</th>\n",
       "      <th>tweet</th>\n",
       "      <th>urls</th>\n",
       "      <th>user</th>\n",
       "    </tr>\n",
       "  </thead>\n",
       "  <tbody>\n",
       "    <tr>\n",
       "      <th>0</th>\n",
       "      <td>[]</td>\n",
       "      <td>Wed Aug 16 14:10:12 +0000 2017</td>\n",
       "      <td>0</td>\n",
       "      <td>[]</td>\n",
       "      <td>897822804808265728</td>\n",
       "      <td>0</td>\n",
       "      <td>Why Bitcoin, Cryptos Aren't Gold</td>\n",
       "      <td>Why Bitcoin, Cryptos Aren't Gold https://t.co/...</td>\n",
       "      <td>[https://t.co/ya3BJtyBXL]</td>\n",
       "      <td>all_btc</td>\n",
       "    </tr>\n",
       "    <tr>\n",
       "      <th>1</th>\n",
       "      <td>[]</td>\n",
       "      <td>Wed Aug 16 14:10:11 +0000 2017</td>\n",
       "      <td>0</td>\n",
       "      <td>[]</td>\n",
       "      <td>897822801364733953</td>\n",
       "      <td>0</td>\n",
       "      <td>Bitcoin for Dummies by Prypto (English) Paperb...</td>\n",
       "      <td>Bitcoin for Dummies by Prypto (English) Paperb...</td>\n",
       "      <td>[https://t.co/LQJOJWuZ5f]</td>\n",
       "      <td>topnewskoeln</td>\n",
       "    </tr>\n",
       "    <tr>\n",
       "      <th>2</th>\n",
       "      <td>[]</td>\n",
       "      <td>Wed Aug 16 14:10:11 +0000 2017</td>\n",
       "      <td>0</td>\n",
       "      <td>[]</td>\n",
       "      <td>897822800492326912</td>\n",
       "      <td>0</td>\n",
       "      <td>The Age of Cryptocurrency: How Bitcoin and the...</td>\n",
       "      <td>The Age of Cryptocurrency: How Bitcoin and the...</td>\n",
       "      <td>[https://t.co/oGKQ5YKZ2c]</td>\n",
       "      <td>tourismusvideo</td>\n",
       "    </tr>\n",
       "    <tr>\n",
       "      <th>3</th>\n",
       "      <td>[]</td>\n",
       "      <td>Wed Aug 16 14:10:07 +0000 2017</td>\n",
       "      <td>0</td>\n",
       "      <td>[]</td>\n",
       "      <td>897822786076516353</td>\n",
       "      <td>0</td>\n",
       "      <td>Coral Gables (Miami, FL) Homeowner Will Accept...</td>\n",
       "      <td>Coral Gables (Miami, FL) Homeowner Will Accept...</td>\n",
       "      <td>[https://t.co/rRC1vNASzI]</td>\n",
       "      <td>rr_bitcoin</td>\n",
       "    </tr>\n",
       "    <tr>\n",
       "      <th>4</th>\n",
       "      <td>[]</td>\n",
       "      <td>Wed Aug 16 14:10:07 +0000 2017</td>\n",
       "      <td>0</td>\n",
       "      <td>[]</td>\n",
       "      <td>897822785766121472</td>\n",
       "      <td>0</td>\n",
       "      <td>Companies are buying bitcoin to pay off hacker...</td>\n",
       "      <td>Companies are buying bitcoin to pay off hacker...</td>\n",
       "      <td>[https://t.co/GHQZjS2oQi, https://t.co/wwTY1IS...</td>\n",
       "      <td>Foresite_MSP</td>\n",
       "    </tr>\n",
       "  </tbody>\n",
       "</table>\n",
       "</div>"
      ],
      "text/plain": [
       "  ats                      created_at  favorite_count hashtags  \\\n",
       "0  []  Wed Aug 16 14:10:12 +0000 2017               0       []   \n",
       "1  []  Wed Aug 16 14:10:11 +0000 2017               0       []   \n",
       "2  []  Wed Aug 16 14:10:11 +0000 2017               0       []   \n",
       "3  []  Wed Aug 16 14:10:07 +0000 2017               0       []   \n",
       "4  []  Wed Aug 16 14:10:07 +0000 2017               0       []   \n",
       "\n",
       "                   id  retweet_count  \\\n",
       "0  897822804808265728              0   \n",
       "1  897822801364733953              0   \n",
       "2  897822800492326912              0   \n",
       "3  897822786076516353              0   \n",
       "4  897822785766121472              0   \n",
       "\n",
       "                                      stripped_tweet  \\\n",
       "0                   Why Bitcoin, Cryptos Aren't Gold   \n",
       "1  Bitcoin for Dummies by Prypto (English) Paperb...   \n",
       "2  The Age of Cryptocurrency: How Bitcoin and the...   \n",
       "3  Coral Gables (Miami, FL) Homeowner Will Accept...   \n",
       "4  Companies are buying bitcoin to pay off hacker...   \n",
       "\n",
       "                                               tweet  \\\n",
       "0  Why Bitcoin, Cryptos Aren't Gold https://t.co/...   \n",
       "1  Bitcoin for Dummies by Prypto (English) Paperb...   \n",
       "2  The Age of Cryptocurrency: How Bitcoin and the...   \n",
       "3  Coral Gables (Miami, FL) Homeowner Will Accept...   \n",
       "4  Companies are buying bitcoin to pay off hacker...   \n",
       "\n",
       "                                                urls            user  \n",
       "0                          [https://t.co/ya3BJtyBXL]         all_btc  \n",
       "1                          [https://t.co/LQJOJWuZ5f]    topnewskoeln  \n",
       "2                          [https://t.co/oGKQ5YKZ2c]  tourismusvideo  \n",
       "3                          [https://t.co/rRC1vNASzI]      rr_bitcoin  \n",
       "4  [https://t.co/GHQZjS2oQi, https://t.co/wwTY1IS...    Foresite_MSP  "
      ]
     },
     "execution_count": 17,
     "metadata": {},
     "output_type": "execute_result"
    }
   ],
   "source": [
    "my_search.pandas_df().head()"
   ]
  }
 ],
 "metadata": {
  "kernelspec": {
   "display_name": "Python 3",
   "language": "python",
   "name": "python3"
  },
  "language_info": {
   "codemirror_mode": {
    "name": "ipython",
    "version": 3
   },
   "file_extension": ".py",
   "mimetype": "text/x-python",
   "name": "python",
   "nbconvert_exporter": "python",
   "pygments_lexer": "ipython3",
   "version": "3.6.1"
  }
 },
 "nbformat": 4,
 "nbformat_minor": 2
}
