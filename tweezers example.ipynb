{
 "cells": [
  {
   "cell_type": "markdown",
   "metadata": {},
   "source": [
    "# tweezers\n",
    "### Python library for twitter data analysis."
   ]
  },
  {
   "cell_type": "code",
   "execution_count": 1,
   "metadata": {
    "collapsed": true
   },
   "outputs": [],
   "source": [
    "import tweezers"
   ]
  },
  {
   "cell_type": "markdown",
   "metadata": {},
   "source": [
    "#### Create an API instance with twitter credentials"
   ]
  },
  {
   "cell_type": "code",
   "execution_count": 49,
   "metadata": {
    "collapsed": true
   },
   "outputs": [],
   "source": [
    "# Twitter auth variables loaded from a locally stored json file.\n",
    "import json\n",
    "credentials = json.load(open(\"../../../credentials/twitter_credentials.json\"))\n",
    "consumer_key = credentials['consumer_key']\n",
    "consumer_secret = credentials['consumer_secret']\n",
    "access_token = credentials['access_token']\n",
    "access_token_secret = credentials['access_token_secret']\n",
    "\n",
    "my_twitter = tweezers.tweezer(consumer_key, \n",
    "                              consumer_secret, \n",
    "                              access_token, \n",
    "                              access_token_secret)"
   ]
  },
  {
   "cell_type": "markdown",
   "metadata": {},
   "source": [
    "#### Verify the twitter credentials"
   ]
  },
  {
   "cell_type": "code",
   "execution_count": 3,
   "metadata": {},
   "outputs": [
    {
     "data": {
      "text/plain": [
       "'Congratulations! Your credentials are valid.'"
      ]
     },
     "execution_count": 3,
     "metadata": {},
     "output_type": "execute_result"
    }
   ],
   "source": [
    "my_twitter.verify()"
   ]
  },
  {
   "cell_type": "markdown",
   "metadata": {},
   "source": [
    "#### Perform a search to get one 'page' of a specified number of results"
   ]
  },
  {
   "cell_type": "code",
   "execution_count": 4,
   "metadata": {},
   "outputs": [
    {
     "data": {
      "text/plain": [
       "dict_keys(['statuses', 'search_metadata'])"
      ]
     },
     "execution_count": 4,
     "metadata": {},
     "output_type": "execute_result"
    }
   ],
   "source": [
    "my_search = my_twitter.search(search_term = 'bitcoin',\n",
    "                  language = 'en',\n",
    "                  count = 100,\n",
    "                  result_type = 'recent',\n",
    "                  search_type = 'phrase',\n",
    "                  include_RTs = False)\n",
    "\n",
    "my_search.keys()"
   ]
  },
  {
   "cell_type": "code",
   "execution_count": 5,
   "metadata": {},
   "outputs": [
    {
     "data": {
      "text/plain": [
       "100"
      ]
     },
     "execution_count": 5,
     "metadata": {},
     "output_type": "execute_result"
    }
   ],
   "source": [
    "# See how many results were returned\n",
    "len(my_search['statuses'])"
   ]
  },
  {
   "cell_type": "code",
   "execution_count": 6,
   "metadata": {},
   "outputs": [
    {
     "data": {
      "text/plain": [
       "{'completed_in': 0.124,\n",
       " 'count': 100,\n",
       " 'max_id': 895644597849927680,\n",
       " 'max_id_str': '895644597849927680',\n",
       " 'next_results': '?max_id=895643423440461823&q=%22bitcoin%22-filter%3Aretweets&lang=en&count=100&include_entities=1&result_type=recent',\n",
       " 'query': '%22bitcoin%22-filter%3Aretweets',\n",
       " 'refresh_url': '?since_id=895644597849927680&q=%22bitcoin%22-filter%3Aretweets&lang=en&result_type=recent&include_entities=1',\n",
       " 'since_id': 0,\n",
       " 'since_id_str': '0'}"
      ]
     },
     "execution_count": 6,
     "metadata": {},
     "output_type": "execute_result"
    }
   ],
   "source": [
    "# Search metadata\n",
    "my_search['search_metadata']"
   ]
  },
  {
   "cell_type": "code",
   "execution_count": 7,
   "metadata": {},
   "outputs": [
    {
     "data": {
      "text/plain": [
       "'The case for $5,000 #bitcoin 🚀 https://t.co/PtbpNwBpCE'"
      ]
     },
     "execution_count": 7,
     "metadata": {},
     "output_type": "execute_result"
    }
   ],
   "source": [
    "# First tweet in the search results\n",
    "my_search[\"statuses\"][0]['text']"
   ]
  },
  {
   "cell_type": "markdown",
   "metadata": {},
   "source": [
    "#### Get an estimate of the average tweet frequency for the search term"
   ]
  },
  {
   "cell_type": "code",
   "execution_count": 8,
   "metadata": {},
   "outputs": [
    {
     "data": {
      "text/plain": [
       "datetime.timedelta(0, 2, 857143)"
      ]
     },
     "execution_count": 8,
     "metadata": {},
     "output_type": "execute_result"
    }
   ],
   "source": [
    "my_twitter.time_per_tweet(my_search)"
   ]
  },
  {
   "cell_type": "markdown",
   "metadata": {},
   "source": [
    "#### Get an estimate of number of tweets per week"
   ]
  },
  {
   "cell_type": "code",
   "execution_count": 9,
   "metadata": {},
   "outputs": [
    {
     "data": {
      "text/plain": [
       "302400"
      ]
     },
     "execution_count": 9,
     "metadata": {},
     "output_type": "execute_result"
    }
   ],
   "source": [
    "my_twitter.tweets_per_week(my_search)"
   ]
  },
  {
   "cell_type": "markdown",
   "metadata": {},
   "source": [
    "#### Calculate how often a tweet came on average"
   ]
  },
  {
   "cell_type": "code",
   "execution_count": 10,
   "metadata": {},
   "outputs": [
    {
     "name": "stdout",
     "output_type": "stream",
     "text": [
      "One tweet every 2 seconds\n"
     ]
    }
   ],
   "source": [
    "print('One tweet every',my_twitter.time_per_tweet(my_search).seconds, 'seconds')"
   ]
  },
  {
   "cell_type": "markdown",
   "metadata": {},
   "source": [
    "#### Explore an individual tweet"
   ]
  },
  {
   "cell_type": "code",
   "execution_count": 11,
   "metadata": {},
   "outputs": [
    {
     "data": {
      "text/plain": [
       "'The case for $5,000 #bitcoin 🚀 https://t.co/PtbpNwBpCE'"
      ]
     },
     "execution_count": 11,
     "metadata": {},
     "output_type": "execute_result"
    }
   ],
   "source": [
    "my_search['statuses'][0]['text']"
   ]
  },
  {
   "cell_type": "markdown",
   "metadata": {},
   "source": [
    "#### Get arrays of tweet features & stripped tweets"
   ]
  },
  {
   "cell_type": "code",
   "execution_count": 36,
   "metadata": {},
   "outputs": [
    {
     "data": {
      "text/plain": [
       "dict_keys(['full_tweets', 'mentions', 'urls', 'hashtags', 'stripped_tweets'])"
      ]
     },
     "execution_count": 36,
     "metadata": {},
     "output_type": "execute_result"
    }
   ],
   "source": [
    "my_twitter.stripped_tweets(my_search).keys()"
   ]
  },
  {
   "cell_type": "code",
   "execution_count": 37,
   "metadata": {},
   "outputs": [
    {
     "data": {
      "text/plain": [
       "'Just In: @BitBayofficial launches #Bitcoin exchange in India at the BlackArrow conference. https://t.co/Svh2KrbDVq'"
      ]
     },
     "execution_count": 37,
     "metadata": {},
     "output_type": "execute_result"
    }
   ],
   "source": [
    "my_twitter.stripped_tweets(my_search)[\"full_tweets\"][74]"
   ]
  },
  {
   "cell_type": "code",
   "execution_count": 38,
   "metadata": {},
   "outputs": [
    {
     "data": {
      "text/plain": [
       "['BitBayofficial']"
      ]
     },
     "execution_count": 38,
     "metadata": {},
     "output_type": "execute_result"
    }
   ],
   "source": [
    "my_twitter.stripped_tweets(my_search)[\"mentions\"][74]"
   ]
  },
  {
   "cell_type": "code",
   "execution_count": 39,
   "metadata": {},
   "outputs": [
    {
     "data": {
      "text/plain": [
       "['Bitcoin']"
      ]
     },
     "execution_count": 39,
     "metadata": {},
     "output_type": "execute_result"
    }
   ],
   "source": [
    "my_twitter.stripped_tweets(my_search)[\"hashtags\"][74]"
   ]
  },
  {
   "cell_type": "code",
   "execution_count": 40,
   "metadata": {},
   "outputs": [
    {
     "data": {
      "text/plain": [
       "'Just In: launches #Bitcoin exchange in India at the BlackArrow conference.'"
      ]
     },
     "execution_count": 40,
     "metadata": {},
     "output_type": "execute_result"
    }
   ],
   "source": [
    "my_twitter.stripped_tweets(my_search)[\"stripped_tweets\"][74]"
   ]
  },
  {
   "cell_type": "markdown",
   "metadata": {},
   "source": [
    "#### Perform a multi-page search"
   ]
  },
  {
   "cell_type": "code",
   "execution_count": 41,
   "metadata": {},
   "outputs": [
    {
     "data": {
      "text/plain": [
       "3"
      ]
     },
     "execution_count": 41,
     "metadata": {},
     "output_type": "execute_result"
    }
   ],
   "source": [
    "multi_search = my_twitter.search_multipage('bitcoin', max_pages=3)\n",
    "len(multi_search)"
   ]
  },
  {
   "cell_type": "code",
   "execution_count": 42,
   "metadata": {},
   "outputs": [
    {
     "data": {
      "text/plain": [
       "'BREAKING: Fidelity Brings Bitcoin Tracking to Traditional Investor Portfolios https://t.co/df6VytYy5J https://t.co/DDgdq7gWo4'"
      ]
     },
     "execution_count": 42,
     "metadata": {},
     "output_type": "execute_result"
    }
   ],
   "source": [
    "multi_search[0]['statuses'][0]['text']"
   ]
  },
  {
   "cell_type": "code",
   "execution_count": 43,
   "metadata": {},
   "outputs": [
    {
     "data": {
      "text/plain": [
       "dict_keys(['statuses', 'search_metadata'])"
      ]
     },
     "execution_count": 43,
     "metadata": {},
     "output_type": "execute_result"
    }
   ],
   "source": [
    "multi_search[0].keys()"
   ]
  },
  {
   "cell_type": "code",
   "execution_count": 44,
   "metadata": {},
   "outputs": [
    {
     "data": {
      "text/plain": [
       "'coindesk'"
      ]
     },
     "execution_count": 44,
     "metadata": {},
     "output_type": "execute_result"
    }
   ],
   "source": [
    "multi_search[0]['statuses'][0]['user']['screen_name']"
   ]
  },
  {
   "cell_type": "code",
   "execution_count": 45,
   "metadata": {},
   "outputs": [
    {
     "data": {
      "text/plain": [
       "78"
      ]
     },
     "execution_count": 45,
     "metadata": {},
     "output_type": "execute_result"
    }
   ],
   "source": [
    "len(multi_search[0]['statuses'])"
   ]
  },
  {
   "cell_type": "code",
   "execution_count": 46,
   "metadata": {},
   "outputs": [
    {
     "data": {
      "text/plain": [
       "269"
      ]
     },
     "execution_count": 46,
     "metadata": {},
     "output_type": "execute_result"
    }
   ],
   "source": [
    "statuses = []\n",
    "[[statuses.append(status) for status in multi_search[page]['statuses']] for page in range(len(multi_search))]\n",
    "len(statuses)"
   ]
  },
  {
   "cell_type": "code",
   "execution_count": 48,
   "metadata": {},
   "outputs": [
    {
     "data": {
      "text/plain": [
       "{'mentions': [],\n",
       " 'number_mentions': 0,\n",
       " 'numbers_urls': 2,\n",
       " 'original_tweet': 'BREAKING: Fidelity Brings Bitcoin Tracking to Traditional Investor Portfolios https://t.co/df6VytYy5J https://t.co/DDgdq7gWo4',\n",
       " 'remaining_tweet': 'BREAKING: Fidelity Brings Bitcoin Tracking to Traditional Investor Portfolios',\n",
       " 'urls': ['https://t.co/df6VytYy5J', 'https://t.co/DDgdq7gWo4']}"
      ]
     },
     "execution_count": 48,
     "metadata": {},
     "output_type": "execute_result"
    }
   ],
   "source": [
    "tweet = tweezers.strip_tweeze(statuses[0]['text'])\n",
    "tweet.strip_tweeze()"
   ]
  }
 ],
 "metadata": {
  "kernelspec": {
   "display_name": "Python 3",
   "language": "python",
   "name": "python3"
  },
  "language_info": {
   "codemirror_mode": {
    "name": "ipython",
    "version": 3
   },
   "file_extension": ".py",
   "mimetype": "text/x-python",
   "name": "python",
   "nbconvert_exporter": "python",
   "pygments_lexer": "ipython3",
   "version": "3.6.1"
  }
 },
 "nbformat": 4,
 "nbformat_minor": 2
}
